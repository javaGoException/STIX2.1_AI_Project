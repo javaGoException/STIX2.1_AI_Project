{
 "cells": [
  {
   "cell_type": "markdown",
   "id": "8482c48f",
   "metadata": {},
   "source": [
    "## Preparation\n",
    "\n",
    "Install the required packages with `pip install neo4j-graphrag`."
   ]
  },
  {
   "cell_type": "code",
   "execution_count": 3,
   "id": "51b79dfa",
   "metadata": {},
   "outputs": [],
   "source": [
    "from neo4j import GraphDatabase\n",
    "from neo4j_graphrag.indexes import create_vector_index, upsert_vectors\n",
    "from neo4j_graphrag.embeddings import OllamaEmbeddings\n",
    "from neo4j_graphrag.types import EntityType\n",
    "from neo4j_graphrag.retrievers import VectorRetriever\n",
    "import json\n",
    "import ast\n",
    "from typing import Any\n",
    "\n",
    "# Insert path to your STIX ATT&CK file\n",
    "with open(\"attack-stix-data/enterprise-attack-17.1.json\", \"r\") as file:\n",
    "    data = json.load(file)\n",
    "\n",
    "# Insert your Neo4j instance URL and credentials\n",
    "URI = \"neo4j+s://6224f1f3.databases.neo4j.io\"\n",
    "AUTH = (\"neo4j\", \"DBy7vuJuvsbib8F3FRhIXzIFu5vsgPxs31gJoANwMlo\")\n",
    "\n",
    "driver = GraphDatabase.driver(URI, auth=AUTH)"
   ]
  },
  {
   "cell_type": "markdown",
   "id": "ba77482a",
   "metadata": {},
   "source": [
    "## KG Construction"
   ]
  },
  {
   "cell_type": "code",
   "execution_count": 4,
   "id": "b1e334fe",
   "metadata": {},
   "outputs": [],
   "source": [
    "def flatten_dict(d) -> dict[Any, str]:\n",
    "    return {k: str(v) for k, v in d.items()}\n",
    "\n",
    "\n",
    "def create_sdo_node(tx, label, props) -> None:\n",
    "    query = f\"CREATE (n:SDO:{label} $props)\"\n",
    "    tx.run(query, props=props)\n",
    "\n",
    "\n",
    "def create_relation(tx, src, tgt, rel_type, props) -> None:\n",
    "    query = f\"\"\"\n",
    "    MATCH (a {{id: $source_id}})\n",
    "    MATCH (b {{id: $target_id}})\n",
    "    MERGE (a)-[r:{rel_type}]->(b)\n",
    "    SET r += $props\n",
    "    \"\"\"\n",
    "    tx.run(query, source_id=src, target_id=tgt, props=props)\n",
    "\n",
    "\n",
    "with driver.session() as session:\n",
    "    for obj in data[\"objects\"]:\n",
    "        flat_obj = flatten_dict(obj)\n",
    "        if flat_obj[\"type\"] == \"relationship\":\n",
    "            rel_type = flat_obj[\"relationship_type\"].replace(\"-\", \"_\")\n",
    "            props = {\n",
    "                k: v\n",
    "                for k, v in flat_obj.items()\n",
    "                if k not in (\"source_ref\", \"target_ref\", \"relationship_type\")\n",
    "            }\n",
    "            session.execute_write(\n",
    "                create_relation,\n",
    "                flat_obj[\"source_ref\"],\n",
    "                flat_obj[\"target_ref\"],\n",
    "                rel_type,\n",
    "                props,\n",
    "            )\n",
    "        else:\n",
    "            sdo_type = flat_obj[\"type\"].replace(\"-\", \"_\")\n",
    "            props = {k: v for k, v in flat_obj.items() if k != \"type\"}\n",
    "            session.execute_write(create_sdo_node, sdo_type, props)"
   ]
  },
  {
   "cell_type": "code",
   "execution_count": 5,
   "id": "fa39736c",
   "metadata": {},
   "outputs": [],
   "source": [
    "def create_contains_technique_relation(tx, tech_id, tac_name) -> None:\n",
    "    query = f\"\"\"\n",
    "    MATCH (a:attack_pattern {{id: \"{tech_id}\"}}), (b:x_mitre_tactic {{x_mitre_shortname: \"{tac_name}\"}})\n",
    "    MERGE (b)-[r:contains_technique]->(a)\n",
    "    \"\"\"\n",
    "    tx.run(query)\n",
    "\n",
    "def create_component_of_relation(tx, dc_id, ds_id) -> None:\n",
    "    query = f\"\"\"\n",
    "    MATCH (a:x_mitre_data_component {{id: \"{dc_id}\"}}), (b:x_mitre_data_source {{id: \"{ds_id}\"}})\n",
    "    MERGE (a)-[r:component_of]->(b)\n",
    "    \"\"\"\n",
    "    tx.run(query)\n",
    "\n",
    "attack_patterns = [obj for obj in data[\"objects\"] if obj[\"type\"] == \"attack-pattern\"]\n",
    "data_components = [obj for obj in data[\"objects\"] if obj[\"type\"] == \"x-mitre-data-component\"]\n",
    "\n",
    "with driver.session() as session:\n",
    "    for ap in attack_patterns: \n",
    "        ap_id = ap[\"id\"]\n",
    "\n",
    "        for phase in ap[\"kill_chain_phases\"]:\n",
    "            phase_name = phase[\"phase_name\"]\n",
    "            session.execute_write(create_contains_technique_relation, ap_id, phase_name)\n",
    "\n",
    "    for dc in data_components:\n",
    "        dc_id = dc[\"id\"]\n",
    "        ds_id = dc[\"x_mitre_data_source_ref\"]\n",
    "        session.execute_write(create_component_of_relation, dc_id, ds_id)"
   ]
  },
  {
   "cell_type": "markdown",
   "id": "bd880a81",
   "metadata": {},
   "source": [
    "## Create and populate Vector Index"
   ]
  },
  {
   "cell_type": "code",
   "execution_count": 6,
   "id": "e4ba023e",
   "metadata": {},
   "outputs": [],
   "source": [
    "INDEX_NAME = \"SDOs\"\n",
    "\n",
    "create_vector_index(\n",
    "    driver,\n",
    "    INDEX_NAME,\n",
    "    label=\"SDO\",\n",
    "    embedding_property=\"embedding\",\n",
    "    dimensions=3584,\n",
    "    similarity_fn=\"cosine\",\n",
    ")"
   ]
  },
  {
   "cell_type": "code",
   "execution_count": 15,
   "id": "334baff5",
   "metadata": {},
   "outputs": [],
   "source": [
    "embedder = OllamaEmbeddings(model=\"rjmalagon/gte-qwen2-7b-instruct:f16\")\n",
    "\n",
    "with driver.session() as session:\n",
    "    nodes = session.run(\"MATCH (n) RETURN n\")\n",
    "    for record in nodes:\n",
    "        node = record[\"n\"]\n",
    "        if node[\"description\"]:\n",
    "            vector = embedder.embed_query(node[\"description\"])\n",
    "            upsert_vectors(\n",
    "                driver,\n",
    "                ids=[node.element_id],\n",
    "                embedding_property=\"embedding\",\n",
    "                embeddings=[vector],\n",
    "                entity_type=EntityType.NODE,\n",
    "            )\n"
   ]
  },
  {
   "cell_type": "markdown",
   "id": "09fbc450",
   "metadata": {},
   "source": [
    "## Similarity Search"
   ]
  },
  {
   "cell_type": "code",
   "execution_count": 22,
   "id": "6738e7b0",
   "metadata": {},
   "outputs": [
    {
     "name": "stdout",
     "output_type": "stream",
     "text": [
      "Setuid and Setgid Mitigation\n",
      "Applications with known vulnerabilities or known shell escapes should not have the setuid or setgid bits set to reduce potential damage if an application is compromised. Additionally, the number of programs with setuid or setgid bits set should be minimized across a system.\n",
      "---------------------\n",
      "Setuid and Setgid\n",
      "An adversary may abuse configurations where an application has the setuid or setgid bits set in order to get code running in a different (and possibly more privileged) user’s context. On Linux or macOS, when the setuid or setgid bits are set for an application binary, the application will run with the privileges of the owning user or group respectively.(Citation: setuid man page) Normally an application is run in the current user’s context, regardless of which user or group owns the application. However, there are instances where programs need to be executed in an elevated context to function properly, but the user running them may not have the specific required privileges.\n",
      "\n",
      "Instead of creating an entry in the sudoers file, which must be done by root, any user can specify the setuid or setgid flag to be set for their own applications (i.e. [Linux and Mac File and Directory Permissions Modification](https://attack.mitre.org/techniques/T1222/002)). The <code>chmod</code> command can set these bits with bitmasking, <code>chmod 4777 [file]</code> or via shorthand naming, <code>chmod u+s [file]</code>. This will enable the setuid bit. To enable the setgid bit, <code>chmod 2775</code> and <code>chmod g+s</code> can be used.\n",
      "\n",
      "Adversaries can use this mechanism on their own malware to make sure they're able to execute in elevated contexts in the future.(Citation: OSX Keydnap malware) This abuse is often part of a \"shell escape\" or other actions to bypass an execution environment with restricted permissions.\n",
      "\n",
      "Alternatively, adversaries may choose to find and target vulnerable binaries with the setuid or setgid bits already enabled (i.e. [File and Directory Discovery](https://attack.mitre.org/techniques/T1083)). The setuid and setguid bits are indicated with an \"s\" instead of an \"x\" when viewing a file's attributes via <code>ls -l</code>. The <code>find</code> command can also be used to search for such files. For example, <code>find / -perm +4000 2>/dev/null</code> can be used to find files with setuid set and <code>find / -perm +2000 2>/dev/null</code> may be used for setgid. Binaries that have these bits set may then be abused by adversaries.(Citation: GTFOBins Suid)\n",
      "---------------------\n",
      "File System Permissions Weakness Mitigation\n",
      "Use auditing tools capable of detecting file system permissions abuse opportunities on systems within an enterprise and correct them. Limit privileges of user accounts and groups so that only authorized administrators can interact with service changes and service binary target path locations. Toolkits like the PowerSploit framework contain PowerUp modules that can be used to explore systems for service file system permissions weaknesses. (Citation: Powersploit)\n",
      "\n",
      "Identify and block potentially malicious software that may be executed through abuse of file, directory, and service permissions by using whitelisting (Citation: Beechey 2010) tools, like AppLocker, (Citation: Windows Commands JPCERT) (Citation: NSA MS AppLocker) that are capable of auditing and/or blocking unknown programs. Deny execution from user directories such as file download directories and temp directories where able. (Citation: Seclists Kanthak 7zip Installer)\n",
      "\n",
      "Turn off UAC's privilege elevation for standard users <code>[HKEY_LOCAL_MACHINE\\SOFTWARE\\Microsoft\\Windows\\CurrentVersion\\Policies\\System]</code>to automatically deny elevation requests, add: <code>\"ConsentPromptBehaviorUser\"=dword:00000000</code> (Citation: Seclists Kanthak 7zip Installer). Consider enabling installer detection for all users by adding: <code>\"EnableInstallerDetection\"=dword:00000001</code>. This will prompt for a password for installation and also log the attempt. To disable installer detection, instead add: <code>\"EnableInstallerDetection\"=dword:00000000</code>. This may prevent potential elevation of privileges through exploitation during the process of UAC detecting the installer, but will allow the installation process to continue without being logged.\n",
      "---------------------\n"
     ]
    }
   ],
   "source": [
    "retriever = VectorRetriever(driver, \"SDOs\", embedder)\n",
    "query_text = \"Which mitigation strategy is recommended to counteract the abuse of setuid and setgid bits?\"\n",
    "result = retriever.search(query_text=query_text, top_k=3)\n",
    "for item in result.items:\n",
    "    dict_item = ast.literal_eval(item.content)\n",
    "    print(dict_item[\"name\"])\n",
    "    print(dict_item[\"description\"])\n",
    "    print(\"---------------------\")"
   ]
  }
 ],
 "metadata": {
  "kernelspec": {
   "display_name": ".vevn",
   "language": "python",
   "name": "python3"
  },
  "language_info": {
   "codemirror_mode": {
    "name": "ipython",
    "version": 3
   },
   "file_extension": ".py",
   "mimetype": "text/x-python",
   "name": "python",
   "nbconvert_exporter": "python",
   "pygments_lexer": "ipython3",
   "version": "3.13.0"
  }
 },
 "nbformat": 4,
 "nbformat_minor": 5
}
